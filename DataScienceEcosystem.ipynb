{
 "cells": [
  {
   "cell_type": "markdown",
   "id": "37adcdd9-9169-4208-a4c9-bbe00563a8ed",
   "metadata": {},
   "source": [
    "#Data Science Tools and Ecosystem"
   ]
  },
  {
   "cell_type": "markdown",
   "id": "657e0642-b11b-423d-ae34-5ed1d5f03dae",
   "metadata": {},
   "source": [
    "##In this notebook, Data Science Tools and Ecosystem are summarized."
   ]
  },
  {
   "cell_type": "markdown",
   "id": "4a99df2e-c9fc-429b-840e-c9c9038cc404",
   "metadata": {
    "tags": []
   },
   "source": [
    "**Objectives:**\n",
    "* List data science languages\n",
    "* List data science tools\n",
    "* Exemplify aritmethic operations\n",
    "\n",
    "##Author\n",
    "\n",
    "Alix Guzmán"
   ]
  },
  {
   "cell_type": "markdown",
   "id": "9b60935a-d54a-472a-bdc6-330ac091bd84",
   "metadata": {},
   "source": [
    "###Some of the popular languages that Data Scientists use are:\n",
    "\n",
    "1. Phyton\n",
    "2. R\n",
    "3. SQL"
   ]
  },
  {
   "cell_type": "markdown",
   "id": "dc7dc7d3-01ff-4eeb-8e3b-2ff55ed3dbc5",
   "metadata": {
    "jupyter": {
     "source_hidden": true
    },
    "tags": []
   },
   "source": [
    "###Some of the commonly used libraries used by Data Scientists include:\n",
    "\n",
    "    1.Matplotlib\n",
    "    2.SciPy\n",
    "    3.Numpy\n"
   ]
  },
  {
   "cell_type": "markdown",
   "id": "e4bcaa13-e553-494d-b600-6fcef2b05679",
   "metadata": {},
   "source": [
    "|Data Science Tools|\n",
    "--------------------\n",
    "|Rstudio|\n",
    "|Apache Spark|\n",
    "|TensorFlow|"
   ]
  },
  {
   "cell_type": "markdown",
   "id": "a2de4a3e-4f1a-4a53-9161-c858014eceac",
   "metadata": {},
   "source": [
    "###Below are a few examples of evaluating arithmetic expressions in Python.\n",
    "\n",
    "    1. * - for multiplying values\n",
    "    2. / - for division\n"
   ]
  },
  {
   "cell_type": "markdown",
   "id": "b587754c-48da-4995-90ca-5adf66d10a5f",
   "metadata": {},
   "source": [
    "This a simple arithmetic expression to mutiply then add integers:"
   ]
  },
  {
   "cell_type": "code",
   "execution_count": 1,
   "id": "8e738fe6-21b6-4960-821d-2ab83cc7f4db",
   "metadata": {
    "tags": []
   },
   "outputs": [
    {
     "data": {
      "text/plain": [
       "17"
      ]
     },
     "execution_count": 1,
     "metadata": {},
     "output_type": "execute_result"
    }
   ],
   "source": [
    "(3*4)+5"
   ]
  },
  {
   "cell_type": "markdown",
   "id": "bc53ce49-0b8f-4dcd-a274-61f74985383f",
   "metadata": {},
   "source": [
    "This will convert 200 minutes to hours by diving by 60"
   ]
  },
  {
   "cell_type": "code",
   "execution_count": 3,
   "id": "180c718d-2df1-4fef-a69c-96869cc9b294",
   "metadata": {
    "tags": []
   },
   "outputs": [
    {
     "name": "stdout",
     "output_type": "stream",
     "text": [
      "3.3333333333333335\n"
     ]
    }
   ],
   "source": [
    "Hours = 200/60\n",
    "print(Hours)"
   ]
  },
  {
   "cell_type": "code",
   "execution_count": null,
   "id": "d1b026a8-3931-4012-80cb-46551a95243a",
   "metadata": {},
   "outputs": [],
   "source": []
  }
 ],
 "metadata": {
  "kernelspec": {
   "display_name": "Python",
   "language": "python",
   "name": "conda-env-python-py"
  },
  "language_info": {
   "codemirror_mode": {
    "name": "ipython",
    "version": 3
   },
   "file_extension": ".py",
   "mimetype": "text/x-python",
   "name": "python",
   "nbconvert_exporter": "python",
   "pygments_lexer": "ipython3",
   "version": "3.7.12"
  },
  "toc-showmarkdowntxt": true
 },
 "nbformat": 4,
 "nbformat_minor": 5
}
